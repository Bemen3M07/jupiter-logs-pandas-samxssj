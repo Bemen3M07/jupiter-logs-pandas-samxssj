{
 "cells": [
  {
   "cell_type": "markdown",
   "id": "50938a56-c435-4d58-8ae8-f01826db3bb2",
   "metadata": {},
   "source": [
    "Exercici 2:\n",
    "1. Logs d’info a un fitxer de logs d’info i logs d’error a un fitxer de logs d’error."
   ]
  },
  {
   "cell_type": "markdown",
   "id": "4c33f453-14e1-49cc-b1df-af7ed9da95d7",
   "metadata": {},
   "source": [
    "2. Afegir un handler de pantalla amb nivell INFO"
   ]
  },
  {
   "cell_type": "markdown",
   "id": "7bf7410f-7f44-458e-80ff-f5e9d7d23ad7",
   "metadata": {},
   "source": [
    "3. Afegir un nou logger amb un manegador i un formatador per logs en CSV"
   ]
  },
  {
   "cell_type": "code",
   "execution_count": 9,
   "id": "5874504b-a8c5-44de-b54b-a44a7a55e06c",
   "metadata": {},
   "outputs": [
    {
     "name": "stderr",
     "output_type": "stream",
     "text": [
      "2024-11-30 18:21:13,443 - INFO - Això és un missatge d'informació.\n",
      "Això és un missatge d'informació.\n",
      "Això és un missatge d'informació.\n",
      "Això és un missatge d'informació.\n",
      "Això és un missatge d'informació.\n",
      "Això és un missatge d'informació.\n",
      "Això és un missatge d'informació.\n",
      "2024-11-30 18:21:13,447 - ERROR - Això és un missatge d'error.\n",
      "Això és un missatge d'error.\n",
      "Això és un missatge d'error.\n",
      "Això és un missatge d'error.\n",
      "Això és un missatge d'error.\n",
      "Això és un missatge d'error.\n",
      "Això és un missatge d'error.\n",
      "2024-11-30 18:21:13,451 - INFO - Missatge en format CSV.\n",
      "Missatge en format CSV.\n",
      "Missatge en format CSV.\n",
      "Missatge en format CSV.\n",
      "Missatge en format CSV.\n",
      "Missatge en format CSV.\n",
      "Missatge en format CSV.\n",
      "Missatge en format CSV.\n"
     ]
    }
   ],
   "source": [
    "import logging\n",
    "import os\n",
    "# 1\n",
    "# Crear el directori logs si no existeix\n",
    "os.makedirs('logs', exist_ok=True)\n",
    "\n",
    "# Configuració de loggers\n",
    "logging.basicConfig(level=logging.DEBUG, format='%(asctime)s - %(levelname)s - %(message)s')\n",
    "\n",
    "# Handlers per als fitxers\n",
    "info_handler = logging.FileHandler('logs/info.log')\n",
    "info_handler.setLevel(logging.INFO)\n",
    "\n",
    "error_handler = logging.FileHandler('logs/error.log')\n",
    "error_handler.setLevel(logging.ERROR)\n",
    "\n",
    "# Afegir els handlers al logger principal\n",
    "logger = logging.getLogger()\n",
    "logger.addHandler(info_handler)\n",
    "logger.addHandler(error_handler)\n",
    "\n",
    "# Prova de Logs\n",
    "logger.info(\"Això és un missatge d'informació.\")\n",
    "logger.error(\"Això és un missatge d'error.\")\n",
    "\n",
    "# 2\n",
    "# Handler per mostrar logs a la terminal\n",
    "screen_handler = logging.StreamHandler()\n",
    "screen_handler.setLevel(logging.INFO)\n",
    "\n",
    "# Afegir el handler de pantalla al logger\n",
    "logger.addHandler(screen_handler)\n",
    "\n",
    "# 3\n",
    "# Crear un logger separat per a logs CSV\n",
    "csv_logger = logging.getLogger('csv_logger')\n",
    "csv_logger.setLevel(logging.INFO)\n",
    "\n",
    "# Configurar un handler per escriure logs a un fitxer CSV\n",
    "csv_handler = logging.FileHandler('logs/logs.csv')\n",
    "csv_formatter = logging.Formatter('%(asctime)s,%(levelname)s,%(message)s')  # Format CSV\n",
    "csv_handler.setFormatter(csv_formatter)\n",
    "\n",
    "# Afegir el handler al logger\n",
    "csv_logger.addHandler(csv_handler)\n",
    "\n",
    "# Exemple de missatge de log en CSV\n",
    "csv_logger.info(\"Missatge en format CSV.\")\n"
   ]
  },
  {
   "cell_type": "markdown",
   "id": "5c5276c5-a401-48eb-942c-ac2b1e810163",
   "metadata": {},
   "source": [
    "Exercici 3"
   ]
  },
  {
   "cell_type": "markdown",
   "id": "4d54f759-64c5-4065-ac46-1355dfa799b6",
   "metadata": {},
   "source": [
    "Analisis de funcions de Pandas"
   ]
  },
  {
   "cell_type": "markdown",
   "id": "f868dfbf-ca6c-46d8-96da-df2044d80d81",
   "metadata": {},
   "source": [
    "Creació de fitxer CSV"
   ]
  },
  {
   "cell_type": "code",
   "execution_count": 1,
   "id": "7175b697-dcab-48cb-bed5-de9ba3db0cda",
   "metadata": {},
   "outputs": [
    {
     "name": "stdout",
     "output_type": "stream",
     "text": [
      "Fitxer CSV creat a 'data/exemple.csv'.\n"
     ]
    }
   ],
   "source": [
    "import csv\n",
    "import os\n",
    "\n",
    "# Assegurar-se que la carpeta 'data' existeix\n",
    "os.makedirs('data', exist_ok=True)\n",
    "\n",
    "# Crear un fitxer CSV\n",
    "with open('data/exemple.csv', mode='w', newline='') as file:\n",
    "    writer = csv.writer(file)\n",
    "    writer.writerow([\"Nom\", \"Edat\", \"Nota\"])\n",
    "    writer.writerows([\n",
    "        [\"Anna\", 23, 7.5],\n",
    "        [\"Joan\", 21, 8.0],\n",
    "        [\"Maria\", 22, 9.2],\n",
    "        [\"Pere\", 20, 6.8],\n",
    "        [\"Júlia\", 25, 7.0]\n",
    "    ])\n",
    "\n",
    "print(\"Fitxer CSV creat a 'data/exemple.csv'.\")\n"
   ]
  },
  {
   "cell_type": "markdown",
   "id": "3ea5a87a-6319-4a25-ae92-28d4c98b0fe1",
   "metadata": {},
   "source": [
    "Llegir el fitxer CSV amb pandas"
   ]
  },
  {
   "cell_type": "code",
   "execution_count": 2,
   "id": "5c4b4fb4-4a27-47a9-9ab7-046be348f71f",
   "metadata": {},
   "outputs": [
    {
     "name": "stdout",
     "output_type": "stream",
     "text": [
      "Dades carregades:\n",
      "     Nom  Edat  Nota\n",
      "0   Anna    23   7.5\n",
      "1   Joan    21   8.0\n",
      "2  Maria    22   9.2\n",
      "3   Pere    20   6.8\n",
      "4  Júlia    25   7.0\n"
     ]
    }
   ],
   "source": [
    "import pandas as pd\n",
    "\n",
    "# Llegir el fitxer CSV\n",
    "data = pd.read_csv('data/exemple.csv')\n",
    "\n",
    "# Mostrar les primeres files del DataFrame\n",
    "print(\"Dades carregades:\")\n",
    "print(data)\n"
   ]
  },
  {
   "cell_type": "markdown",
   "id": "6b626130-6630-47ad-80ed-c8164e5eb04d",
   "metadata": {},
   "source": [
    "Analitzar les dades"
   ]
  },
  {
   "cell_type": "code",
   "execution_count": 4,
   "id": "38b892d8-7967-4389-a8ad-a576d7dff01c",
   "metadata": {},
   "outputs": [
    {
     "name": "stdout",
     "output_type": "stream",
     "text": [
      "Edat mitjana: 22.20 anys\n",
      "Nota mitjana: 7.70\n",
      "Nota mitjana: 7.70\n",
      "Alumnes aprovats:\n",
      "     Nom  Edat  Nota\n",
      "0   Anna    23   7.5\n",
      "1   Joan    21   8.0\n",
      "2  Maria    22   9.2\n",
      "3   Pere    20   6.8\n",
      "4  Júlia    25   7.0\n",
      "Nota més alta: 9.20\n"
     ]
    }
   ],
   "source": [
    "# Calcular l'edat mitjana\n",
    "edat_mitjana = data['Edat'].mean()\n",
    "print(f\"Edat mitjana: {edat_mitjana:.2f} anys\")\n",
    "\n",
    "nota_mitjana = data['Nota'].mean()\n",
    "print(f\"Nota mitjana: {nota_mitjana:.2f}\")\n",
    "\n",
    "# Calcular la nota mitjana\n",
    "nota_mitjana = data['Nota'].mean()\n",
    "print(f\"Nota mitjana: {nota_mitjana:.2f}\")\n",
    "\n",
    "# Filtrar alumnes aprovats (nota ≥ 5.0)\n",
    "aprovats = data[data['Nota'] >= 5.0]\n",
    "print(\"Alumnes aprovats:\")\n",
    "print(aprovats)\n",
    "\n",
    "# Identificar la nota més alta\n",
    "nota_maxima = data['Nota'].max()\n",
    "print(f\"Nota més alta: {nota_maxima:.2f}\")"
   ]
  },
  {
   "cell_type": "markdown",
   "id": "93428fbf-1c57-4611-bcd8-a354df2cd658",
   "metadata": {},
   "source": [
    "Guardar els resultats en un nou fitxer CSV"
   ]
  },
  {
   "cell_type": "code",
   "execution_count": 5,
   "id": "a4b8acd5-7d61-427f-b925-2fd025994e76",
   "metadata": {},
   "outputs": [
    {
     "name": "stdout",
     "output_type": "stream",
     "text": [
      "Fitxer 'data/aprovats.csv' creat amb els alumnes aprovats.\n"
     ]
    }
   ],
   "source": [
    "# Guardar els alumnes aprovats en un nou fitxer\n",
    "aprovats.to_csv('data/aprovats.csv', index=False)\n",
    "print(\"Fitxer 'data/aprovats.csv' creat amb els alumnes aprovats.\")"
   ]
  },
  {
   "cell_type": "markdown",
   "id": "af42a0fc-0413-44a5-bd23-1c1f7927b630",
   "metadata": {},
   "source": [
    "Analisis de funcions de Jupyter Notebook"
   ]
  },
  {
   "cell_type": "markdown",
   "id": "110bba3b-cbb4-4421-a935-1aa24ce13322",
   "metadata": {},
   "source": [
    " Visualitzar dades amb gràfiques"
   ]
  },
  {
   "cell_type": "code",
   "execution_count": 5,
   "id": "aafd0cb3-2b66-4ee4-8cee-f7911d7375b4",
   "metadata": {},
   "outputs": [
    {
     "data": {
      "image/png": "[encoded data removed]",
      "text/plain": [
       "<Figure size 640x480 with 1 Axes>"
      ]
     },
     "metadata": {},
     "output_type": "display_data"
    }
   ],
   "source": [
    "import matplotlib.pyplot as plt\n",
    "\n",
    "# Crear un gràfic de barres amb les notes\n",
    "plt.bar(data['Nom'], data['Nota'], color='skyblue')\n",
    "plt.xlabel('Alumnes')\n",
    "plt.ylabel('Notes')\n",
    "plt.title('Notes dels alumnes')\n",
    "plt.show()"
   ]
  },
  {
   "cell_type": "markdown",
   "id": "e69a888e-3b23-4b77-bfc2-7f1dececf408",
   "metadata": {},
   "source": [
    "Gràfic circular (Seaborn o Matplotlib)"
   ]
  },
  {
   "cell_type": "code",
   "execution_count": 6,
   "id": "b67a4583-a34f-42a0-838a-1114a9c9174f",
   "metadata": {},
   "outputs": [
    {
     "data": {
      "image/png": "[encoded data removed]",
      "text/plain": [
       "<Figure size 640x480 with 1 Axes>"
      ]
     },
     "metadata": {},
     "output_type": "display_data"
    }
   ],
   "source": [
    "# Comptar aprovats i suspesos\n",
    "num_aprovats = len(data[data['Nota'] >= 5.0])\n",
    "num_suspesos = len(data[data['Nota'] < 5.0])\n",
    "\n",
    "# Crear el gràfic circular\n",
    "plt.pie(\n",
    "    [num_aprovats, num_suspesos],\n",
    "    labels=['Aprovats', 'Suspesos'],\n",
    "    autopct='%1.1f%%',\n",
    "    colors=['green', 'red']\n",
    ")\n",
    "plt.title('Distribució d\\'aprovats i suspesos')\n",
    "plt.show()"
   ]
  },
  {
   "cell_type": "markdown",
   "id": "909e0e6f-9b09-49a2-a8ec-4aca10628b24",
   "metadata": {},
   "source": [
    "Generar resultats i guardar"
   ]
  },
  {
   "cell_type": "code",
   "execution_count": 8,
   "id": "d5e7cd8e-0c7e-44ab-85d6-2ce51d511cdb",
   "metadata": {},
   "outputs": [
    {
     "name": "stdout",
     "output_type": "stream",
     "text": [
      "Fitxer 'data/aprovatsJ.csv' creat amb els alumnes aprovats.\n"
     ]
    }
   ],
   "source": [
    "# Guardar els alumnes aprovats\n",
    "aprovats.to_csv('data/aprovats.csv', index=False)\n",
    "print(\"Fitxer 'data/aprovatsJ.csv' creat amb els alumnes aprovats.\")"
   ]
  },
  {
   "cell_type": "markdown",
   "id": "8498c9e2-4e52-4d04-b729-4e425c902023",
   "metadata": {},
   "source": []
  }
 ],
 "metadata": {
  "kernelspec": {
   "display_name": "Python 3 (ipykernel)",
   "language": "python",
   "name": "python3"
  },
  "language_info": {
   "codemirror_mode": {
    "name": "ipython",
    "version": 3
   },
   "file_extension": ".py",
   "mimetype": "text/x-python",
   "name": "python",
   "nbconvert_exporter": "python",
   "pygments_lexer": "ipython3",
   "version": "3.12.1"
  }
 },
 "nbformat": 4,
 "nbformat_minor": 5
}
